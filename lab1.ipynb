{
  "nbformat": 4,
  "nbformat_minor": 0,
  "metadata": {
    "colab": {
      "provenance": []
    },
    "kernelspec": {
      "name": "python3",
      "display_name": "Python 3"
    },
    "language_info": {
      "name": "python"
    }
  },
  "cells": [
    {
      "cell_type": "markdown",
      "source": [
        "## Functional Programming With PySpark"
      ],
      "metadata": {
        "id": "xz-f5zLrkU51"
      }
    },
    {
      "cell_type": "code",
      "execution_count": 1,
      "metadata": {
        "colab": {
          "base_uri": "https://localhost:8080/"
        },
        "id": "A_QqlSX6kFgr",
        "outputId": "4790dd95-4201-4999-cf91-f5e39f1214a2"
      },
      "outputs": [
        {
          "output_type": "stream",
          "name": "stdout",
          "text": [
            "Collecting pyspark\n",
            "  Downloading pyspark-3.5.1.tar.gz (317.0 MB)\n",
            "\u001b[2K     \u001b[90m━━━━━━━━━━━━━━━━━━━━━━━━━━━━━━━━━━━━━━━━\u001b[0m \u001b[32m317.0/317.0 MB\u001b[0m \u001b[31m3.4 MB/s\u001b[0m eta \u001b[36m0:00:00\u001b[0m\n",
            "\u001b[?25h  Preparing metadata (setup.py) ... \u001b[?25l\u001b[?25hdone\n",
            "Requirement already satisfied: py4j==0.10.9.7 in /usr/local/lib/python3.10/dist-packages (from pyspark) (0.10.9.7)\n",
            "Building wheels for collected packages: pyspark\n",
            "  Building wheel for pyspark (setup.py) ... \u001b[?25l\u001b[?25hdone\n",
            "  Created wheel for pyspark: filename=pyspark-3.5.1-py2.py3-none-any.whl size=317488491 sha256=88864d7f59b9c699de61c5fcb67b31ae55cb0d6d58cf5291c556c0782e5d1cd9\n",
            "  Stored in directory: /root/.cache/pip/wheels/80/1d/60/2c256ed38dddce2fdd93be545214a63e02fbd8d74fb0b7f3a6\n",
            "Successfully built pyspark\n",
            "Installing collected packages: pyspark\n",
            "Successfully installed pyspark-3.5.1\n"
          ]
        }
      ],
      "source": [
        "!pip install pyspark\n"
      ]
    },
    {
      "cell_type": "code",
      "source": [
        "from pyspark.sql import SparkSession\n",
        "spark = SparkSession.builder \\\n",
        "    .master(\"local\") \\\n",
        "    .appName(\"Colab\") \\\n",
        "    .getOrCreate()\n",
        "\n",
        "spark"
      ],
      "metadata": {
        "colab": {
          "base_uri": "https://localhost:8080/",
          "height": 219
        },
        "id": "suW0QO0_kzn5",
        "outputId": "70a119bf-264e-4dbf-e0c7-4de0599ddc67"
      },
      "execution_count": 2,
      "outputs": [
        {
          "output_type": "execute_result",
          "data": {
            "text/plain": [
              "<pyspark.sql.session.SparkSession at 0x7f5d6f425510>"
            ],
            "text/html": [
              "\n",
              "            <div>\n",
              "                <p><b>SparkSession - in-memory</b></p>\n",
              "                \n",
              "        <div>\n",
              "            <p><b>SparkContext</b></p>\n",
              "\n",
              "            <p><a href=\"http://574bb1454020:4040\">Spark UI</a></p>\n",
              "\n",
              "            <dl>\n",
              "              <dt>Version</dt>\n",
              "                <dd><code>v3.5.1</code></dd>\n",
              "              <dt>Master</dt>\n",
              "                <dd><code>local</code></dd>\n",
              "              <dt>AppName</dt>\n",
              "                <dd><code>Colab</code></dd>\n",
              "            </dl>\n",
              "        </div>\n",
              "        \n",
              "            </div>\n",
              "        "
            ]
          },
          "metadata": {},
          "execution_count": 2
        }
      ]
    },
    {
      "cell_type": "code",
      "source": [
        "\"\"\" Practice High Order Function \"\"\"\n",
        "def filterFactory(predicate):\n",
        "  def filter_numbers(numbers):\n",
        "    return [num for num in numbers if predicate(num)]\n",
        "  return filter_numbers\n",
        "\n",
        "\n",
        "def isEven(num):\n",
        "  return num % 2 == 0\n",
        "def isOdd(num):\n",
        "  return num % 2 != 0\n",
        "def isPrime(num):\n",
        "  if num < 2:\n",
        "    return False\n",
        "  for i in range(2, num):\n",
        "    if num % i == 0:\n",
        "      return False\n",
        "  return True\n",
        "\n",
        "evenFilter = filterFactory(isEven)\n",
        "nums=[1,2,3,4,5,6,7,8,9,10,11]\n",
        "evenNumbers = evenFilter(nums)\n",
        "oddNumbers = filterFactory(isOdd)(nums)\n",
        "primeNumbers = filterFactory(isPrime)(nums)\n",
        "\n",
        "print(evenNumbers)\n",
        "print(oddNumbers)\n",
        "print(primeNumbers)\n"
      ],
      "metadata": {
        "colab": {
          "base_uri": "https://localhost:8080/"
        },
        "id": "qMZPE9yYlJIf",
        "outputId": "cbabb712-5db4-4dcd-b7f0-9869c2ffb066"
      },
      "execution_count": 5,
      "outputs": [
        {
          "output_type": "stream",
          "name": "stdout",
          "text": [
            "[2, 4, 6, 8, 10]\n",
            "[1, 3, 5, 7, 9, 11]\n",
            "[2, 3, 5, 7, 11]\n"
          ]
        }
      ]
    },
    {
      "cell_type": "code",
      "source": [
        "def factory(predicate):\n",
        "  def multiply(nums):\n",
        "    return [num * predicate for num in nums]\n",
        "  return multiply\n",
        "\n",
        "multiply_by_3 = factory(3)\n",
        "multiply_by_2 = factory(2)\n",
        "\n",
        "nums=[1,2,3,4,5,6,7,8,9,10,11]\n",
        "print(multiply_by_3(nums))\n",
        "print(multiply_by_2(nums))\n"
      ],
      "metadata": {
        "colab": {
          "base_uri": "https://localhost:8080/"
        },
        "id": "TPhgW3Z4mVQt",
        "outputId": "a792550c-06d3-47b8-b95c-1889c5d7bb35"
      },
      "execution_count": 6,
      "outputs": [
        {
          "output_type": "stream",
          "name": "stdout",
          "text": [
            "[3, 6, 9, 12, 15, 18, 21, 24, 27, 30, 33]\n",
            "[2, 4, 6, 8, 10, 12, 14, 16, 18, 20, 22]\n"
          ]
        }
      ]
    },
    {
      "cell_type": "code",
      "source": [
        "\"\"\" Some Composite Functions\"\"\"\n",
        "def compose(*functions):\n",
        "\n",
        "  def composed_function(x):\n",
        "    result = x\n",
        "    for func in functions:\n",
        "      result = func(result)\n",
        "    return result\n",
        "\n",
        "  return composed_function\n",
        "\n",
        "def double(x):\n",
        "  return x * 2\n",
        "\n",
        "def square(x):\n",
        "  return x ** 2\n",
        "\n",
        "def add_one(x):\n",
        "  return x + 1\n",
        "\n",
        "double_square_add_one = compose(double, square, add_one)\n",
        "\n",
        "print(double_square_add_one(3))"
      ],
      "metadata": {
        "colab": {
          "base_uri": "https://localhost:8080/"
        },
        "id": "ed2mmiRjpiHM",
        "outputId": "7db47ec6-5a37-4a1f-9fd4-a3ac8a9bbc27"
      },
      "execution_count": 11,
      "outputs": [
        {
          "output_type": "stream",
          "name": "stdout",
          "text": [
            "37\n"
          ]
        }
      ]
    },
    {
      "cell_type": "code",
      "source": [
        "def create_function(fn):\n",
        "    accumulated_result = \"\" if fn == concat else 0\n",
        "\n",
        "    def wrapper(*args):\n",
        "        nonlocal accumulated_result\n",
        "        if len(args) == 0:\n",
        "            return accumulated_result\n",
        "        else:\n",
        "            accumulated_result += fn(*args)\n",
        "            return wrapper\n",
        "\n",
        "    return wrapper\n",
        "\n",
        "def add(a, b):\n",
        "    return a + b\n",
        "\n",
        "def concat(s, t):\n",
        "    return s + t\n",
        "\n",
        "# Create an accumulator for concatenation\n",
        "concat_builder = create_function(concat)\n",
        "print(concat_builder(\"hello\", \"world\")(\"my\", \"name\")(\"is\", \"amir\")())\n",
        "\n",
        "# Create an accumulator for addition\n",
        "add_builder = create_function(add)\n",
        "print(add_builder(1, 2)(3, 4)(5, 6)())\n",
        "\n"
      ],
      "metadata": {
        "colab": {
          "base_uri": "https://localhost:8080/"
        },
        "id": "K3iP3FKprkXz",
        "outputId": "c7d5bcef-3c8e-4586-852d-965f43f1d62d"
      },
      "execution_count": 17,
      "outputs": [
        {
          "output_type": "stream",
          "name": "stdout",
          "text": [
            "helloworldmynameisamir\n",
            "21\n"
          ]
        }
      ]
    },
    {
      "cell_type": "code",
      "source": [
        "def pow(base,exponent):\n",
        "  if exponent == 0:\n",
        "    return 1\n",
        "  elif exponent > 0:\n",
        "    return base * pow(base,exponent-1)\n",
        "\n",
        "\n",
        "print(pow(2,10))\n",
        "print(pow(3,3))\n",
        "print(pow(5,0))\n"
      ],
      "metadata": {
        "colab": {
          "base_uri": "https://localhost:8080/"
        },
        "id": "WFtYw9f0t8rY",
        "outputId": "8133035c-8c28-45d2-b4b3-d23b9dcf333e"
      },
      "execution_count": 19,
      "outputs": [
        {
          "output_type": "stream",
          "name": "stdout",
          "text": [
            "1024\n",
            "27\n",
            "1\n"
          ]
        }
      ]
    },
    {
      "cell_type": "code",
      "source": [
        "def factorial(n):\n",
        "  if n == 0:\n",
        "    return 1\n",
        "  else:\n",
        "    return n * factorial(n-1)\n",
        "\n",
        "print(factorial(5))\n",
        "print(factorial(3))\n",
        "print(factorial(0))"
      ],
      "metadata": {
        "colab": {
          "base_uri": "https://localhost:8080/"
        },
        "id": "F-9BJOT3ufve",
        "outputId": "8f15662f-62d9-43d2-f595-6a14738e5b4e"
      },
      "execution_count": 21,
      "outputs": [
        {
          "output_type": "stream",
          "name": "stdout",
          "text": [
            "120\n",
            "6\n",
            "1\n"
          ]
        }
      ]
    },
    {
      "cell_type": "code",
      "source": [
        "def fibonacci(n):\n",
        "  if n <= 1:\n",
        "    return n\n",
        "  else:\n",
        "    return fibonacci(n-1) + fibonacci(n-2)\n",
        "\n",
        "print(fibonacci(5))\n",
        "print(fibonacci(3))\n",
        "print(fibonacci(0))"
      ],
      "metadata": {
        "colab": {
          "base_uri": "https://localhost:8080/"
        },
        "id": "w-38ik8vuo8f",
        "outputId": "0746037a-0105-4aa6-f1c0-0c97aa2dc444"
      },
      "execution_count": 22,
      "outputs": [
        {
          "output_type": "stream",
          "name": "stdout",
          "text": [
            "5\n",
            "2\n",
            "0\n"
          ]
        }
      ]
    },
    {
      "cell_type": "code",
      "source": [
        "def reverse_sting(s):\n",
        "  if len(s)==0:\n",
        "    return s\n",
        "  else:\n",
        "    return reverse_sting(s[1:]) + s[0]\n",
        "\n",
        "print(reverse_sting(\"amir\"))"
      ],
      "metadata": {
        "colab": {
          "base_uri": "https://localhost:8080/"
        },
        "id": "qgEnaF0zusBW",
        "outputId": "7ebe4f77-77a8-4de9-a0d6-e78b600ab70c"
      },
      "execution_count": 23,
      "outputs": [
        {
          "output_type": "stream",
          "name": "stdout",
          "text": [
            "rima\n"
          ]
        }
      ]
    },
    {
      "cell_type": "markdown",
      "source": [
        "# High Order Function\n",
        "A higher-order function is a function that takes one or more functions as arguments or returns a function as its result."
      ],
      "metadata": {
        "id": "saOfYqrbvhr_"
      }
    },
    {
      "cell_type": "code",
      "source": [
        "\"\"\"\n",
        "This function applies a given transformation to all elements in an array\n",
        "and returns a new array containing the transformed elements.\n",
        "\n",
        "Args:\n",
        "    array: The input array containing the elements to be transformed.\n",
        "    fn: The transformation function to be applied to each element.\n",
        "\n",
        "Returns:\n",
        "    A new array containing the transformed elements.\n",
        "\"\"\"\n",
        "\n",
        "def transform(array,fn):\n",
        "  result = []\n",
        "  for item in array:\n",
        "    transformed_item=fn(item)\n",
        "    result.append(transformed_item)\n",
        "  return result\n",
        "\n",
        "def double(x):\n",
        "  return x * 2\n",
        "\n",
        "def square(x):\n",
        "  return x ** 2\n",
        "\n",
        "def add_one(x):\n",
        "  return x + 1\n",
        "\n",
        "nums=[1,2,3,4,5,6,7,8,9,10,11]\n",
        "print(transform(nums,double))\n",
        "print(transform(nums,square))\n",
        "print(transform(nums,add_one))"
      ],
      "metadata": {
        "colab": {
          "base_uri": "https://localhost:8080/"
        },
        "id": "oifWSrSEu24M",
        "outputId": "c7123a9a-2915-45b2-924a-83be47576bd1"
      },
      "execution_count": 24,
      "outputs": [
        {
          "output_type": "stream",
          "name": "stdout",
          "text": [
            "[2, 4, 6, 8, 10, 12, 14, 16, 18, 20, 22]\n",
            "[1, 4, 9, 16, 25, 36, 49, 64, 81, 100, 121]\n",
            "[2, 3, 4, 5, 6, 7, 8, 9, 10, 11, 12]\n"
          ]
        }
      ]
    },
    {
      "cell_type": "code",
      "source": [
        "\"\"\"\n",
        "Problem Explanation\n",
        "We need to write a function called filter that takes two arguments:\n",
        "\n",
        "An array of elements.\n",
        "A predicate function (a function that returns True or False for a given element).\n",
        "The filter function should return a new array containing only the elements that pass the predicate function (i.e., for which the predicate function returns True).\n",
        "\"\"\"\n",
        "def filter_func(array, predicate):\n",
        "    return [item for item in array if predicate(item)]\n",
        "\n",
        "def is_even(x):\n",
        "  return x % 2 == 0\n",
        "def is_odd(x):\n",
        "  return x % 2 != 0\n",
        "def is_prime(x):\n",
        "  if x < 2:\n",
        "    return False\n",
        "  for i in range(2, x):\n",
        "    if x % i == 0:\n",
        "      return False\n",
        "  return True\n",
        "nums=[1,2,3,4,5,6,7,8,9,10,11]\n",
        "print(filter(nums,is_even))\n",
        "print(filter(nums,is_odd))\n",
        "print(filter(nums,is_prime))\n"
      ],
      "metadata": {
        "colab": {
          "base_uri": "https://localhost:8080/"
        },
        "id": "R5JLhkxewb8x",
        "outputId": "f9f607b8-7687-4374-efd2-3f91e59b6164"
      },
      "execution_count": 25,
      "outputs": [
        {
          "output_type": "stream",
          "name": "stdout",
          "text": [
            "[2, 4, 6, 8, 10]\n",
            "[1, 3, 5, 7, 9, 11]\n",
            "[2, 3, 5, 7, 11]\n"
          ]
        }
      ]
    }
  ]
}